{
  "nbformat": 4,
  "nbformat_minor": 0,
  "metadata": {
    "colab": {
      "provenance": [],
      "authorship_tag": "ABX9TyMerAPvhN161nPguAk1mx9J",
      "include_colab_link": true
    },
    "kernelspec": {
      "name": "python3",
      "display_name": "Python 3"
    },
    "language_info": {
      "name": "python"
    }
  },
  "cells": [
    {
      "cell_type": "markdown",
      "metadata": {
        "id": "view-in-github",
        "colab_type": "text"
      },
      "source": [
        "<a href=\"https://colab.research.google.com/github/HMWIAM/100-Days-Of-ML-Code/blob/master/Python_In_a_day.ipynb\" target=\"_parent\"><img src=\"https://colab.research.google.com/assets/colab-badge.svg\" alt=\"Open In Colab\"/></a>"
      ]
    },
    {
      "cell_type": "code",
      "execution_count": 1,
      "metadata": {
        "colab": {
          "base_uri": "https://localhost:8080/"
        },
        "id": "PjQpaubjRCO_",
        "outputId": "af09b1cc-3cc8-4bbb-b9ce-12dfe68a5684"
      },
      "outputs": [
        {
          "output_type": "execute_result",
          "data": {
            "text/plain": [
              "5"
            ]
          },
          "metadata": {},
          "execution_count": 1
        }
      ],
      "source": [
        "2+3"
      ]
    },
    {
      "cell_type": "code",
      "source": [
        "3>2"
      ],
      "metadata": {
        "colab": {
          "base_uri": "https://localhost:8080/"
        },
        "id": "q2Pr-jSMRv9X",
        "outputId": "1e995670-fce9-4e39-afbf-bd6da5f80a96"
      },
      "execution_count": 2,
      "outputs": [
        {
          "output_type": "execute_result",
          "data": {
            "text/plain": [
              "True"
            ]
          },
          "metadata": {},
          "execution_count": 2
        }
      ]
    },
    {
      "cell_type": "code",
      "source": [
        "print(\"Hello\")"
      ],
      "metadata": {
        "colab": {
          "base_uri": "https://localhost:8080/"
        },
        "id": "xUh1RqirR0EO",
        "outputId": "ae7201e5-bc61-4267-c2a1-c52c0dd66dd3"
      },
      "execution_count": 3,
      "outputs": [
        {
          "output_type": "stream",
          "name": "stdout",
          "text": [
            "Hello\n"
          ]
        }
      ]
    },
    {
      "cell_type": "code",
      "source": [
        "#Prints This\n",
        "print(\"Hello World\")"
      ],
      "metadata": {
        "colab": {
          "base_uri": "https://localhost:8080/"
        },
        "id": "MVnWNUq2R2o-",
        "outputId": "79ec1d6d-4c84-4406-9c78-6f50b84f86fe"
      },
      "execution_count": 4,
      "outputs": [
        {
          "output_type": "stream",
          "name": "stdout",
          "text": [
            "Hello World\n"
          ]
        }
      ]
    },
    {
      "cell_type": "code",
      "source": [
        "#Multiline Comments"
      ],
      "metadata": {
        "id": "HeOqCl0JSFzx"
      },
      "execution_count": 5,
      "outputs": []
    },
    {
      "cell_type": "code",
      "source": [
        "'''\n",
        "This is a multiline comment\n",
        "'''"
      ],
      "metadata": {
        "colab": {
          "base_uri": "https://localhost:8080/",
          "height": 35
        },
        "id": "z_5JalFoSL1O",
        "outputId": "6574354c-4c3e-4c1e-d940-833ac0ed6090"
      },
      "execution_count": 6,
      "outputs": [
        {
          "output_type": "execute_result",
          "data": {
            "text/plain": [
              "'\\nThis is a multiline comment\\n'"
            ],
            "application/vnd.google.colaboratory.intrinsic+json": {
              "type": "string"
            }
          },
          "metadata": {},
          "execution_count": 6
        }
      ]
    },
    {
      "cell_type": "markdown",
      "source": [
        "## Chapter 3: Variables and operators\n",
        "Variables are names given to data that we need to store and manipulate in our programs.\n",
        "\n"
      ],
      "metadata": {
        "id": "9Zk1nk_mS2Nj"
      }
    },
    {
      "cell_type": "code",
      "source": [
        "userAge = 0"
      ],
      "metadata": {
        "id": "w8dOVWITSQWv"
      },
      "execution_count": 7,
      "outputs": []
    },
    {
      "cell_type": "code",
      "source": [
        "userAge"
      ],
      "metadata": {
        "colab": {
          "base_uri": "https://localhost:8080/"
        },
        "id": "7CQpmqfgTHgZ",
        "outputId": "37b5c55e-d573-422e-8732-002f6128760b"
      },
      "execution_count": 9,
      "outputs": [
        {
          "output_type": "execute_result",
          "data": {
            "text/plain": [
              "0"
            ]
          },
          "metadata": {},
          "execution_count": 9
        }
      ]
    },
    {
      "cell_type": "markdown",
      "source": [
        "We can also define multiple variables at one go.\n",
        "\n"
      ],
      "metadata": {
        "id": "5prxc8K1TSx9"
      }
    },
    {
      "cell_type": "code",
      "source": [
        "userAge, userName = 30, 'Peter'"
      ],
      "metadata": {
        "id": "H-BAo3T5TI5g"
      },
      "execution_count": 10,
      "outputs": []
    },
    {
      "cell_type": "code",
      "source": [
        "userAge"
      ],
      "metadata": {
        "colab": {
          "base_uri": "https://localhost:8080/"
        },
        "id": "4e9-kuxJTYo3",
        "outputId": "86bce336-6b8e-4b48-bd94-2dbdb6c3eb67"
      },
      "execution_count": 11,
      "outputs": [
        {
          "output_type": "execute_result",
          "data": {
            "text/plain": [
              "30"
            ]
          },
          "metadata": {},
          "execution_count": 11
        }
      ]
    },
    {
      "cell_type": "code",
      "source": [
        "userName"
      ],
      "metadata": {
        "colab": {
          "base_uri": "https://localhost:8080/",
          "height": 35
        },
        "id": "41snUU_PTbgP",
        "outputId": "d4735edd-ae19-4d50-e8f3-aa4e87c8bc05"
      },
      "execution_count": 12,
      "outputs": [
        {
          "output_type": "execute_result",
          "data": {
            "text/plain": [
              "'Peter'"
            ],
            "application/vnd.google.colaboratory.intrinsic+json": {
              "type": "string"
            }
          },
          "metadata": {},
          "execution_count": 12
        }
      ]
    },
    {
      "cell_type": "code",
      "source": [
        "userAge, userName"
      ],
      "metadata": {
        "colab": {
          "base_uri": "https://localhost:8080/"
        },
        "id": "WfcFPYnGTdJL",
        "outputId": "28e94192-fe84-4671-a5d0-198d5c65ee2e"
      },
      "execution_count": 13,
      "outputs": [
        {
          "output_type": "execute_result",
          "data": {
            "text/plain": [
              "(30, 'Peter')"
            ]
          },
          "metadata": {},
          "execution_count": 13
        }
      ]
    },
    {
      "cell_type": "markdown",
      "source": [
        "3.2 Naming a Variable\n",
        "\n",
        " A variable name in Python can only contain letters (a - z, A - B), numbers or underscores (_). However, the first character cannot be a number. Hence, you can name your variables userName, user_name or userName2 but not 2userName. In addition, there are some reserved words that you cannot use as a variable name because they already have preassigned meanings in Python. These reserved words include words like print, input, if, while etc. We’ll learn about each of them in subsequent chapters. Finally, variable names are case sensitive. username is not the same as userName.\n",
        "\n"
      ],
      "metadata": {
        "id": "rlEbdtbbTmwW"
      }
    },
    {
      "cell_type": "code",
      "source": [
        "x = 5\n",
        "y = 10\n",
        "x = y\n",
        "print(\"x = \", x)\n",
        "print(\"y =  \", y)"
      ],
      "metadata": {
        "colab": {
          "base_uri": "https://localhost:8080/"
        },
        "id": "p9R5_Xg_ThFD",
        "outputId": "93c9c4b4-4fce-4988-c4cd-8f526ae81f81"
      },
      "execution_count": 14,
      "outputs": [
        {
          "output_type": "stream",
          "name": "stdout",
          "text": [
            "x =  10\n",
            "y =   10\n"
          ]
        }
      ]
    },
    {
      "cell_type": "markdown",
      "source": [
        "## 3.4 Basic Operators\n",
        " Besides assigning a variable an initial value, we can also perform the usual mathematical operations on variables. Basic operators in Python include +, -, *, /, //, % and ** which represent addition, subtraction, multiplication, division, floor division, modulus and exponent respectively.\n",
        "\n"
      ],
      "metadata": {
        "id": "bg1FyjR0VGg8"
      }
    },
    {
      "cell_type": "code",
      "source": [
        "x = 5\n",
        "y = 2\n",
        "x+y"
      ],
      "metadata": {
        "colab": {
          "base_uri": "https://localhost:8080/"
        },
        "id": "dRyT-PFpUGpv",
        "outputId": "cbb44ce3-d0cd-4011-b76c-43a21361b06a"
      },
      "execution_count": 15,
      "outputs": [
        {
          "output_type": "execute_result",
          "data": {
            "text/plain": [
              "7"
            ]
          },
          "metadata": {},
          "execution_count": 15
        }
      ]
    },
    {
      "cell_type": "code",
      "source": [
        "x-y"
      ],
      "metadata": {
        "colab": {
          "base_uri": "https://localhost:8080/"
        },
        "id": "A6644FMBVVNX",
        "outputId": "e23bf8df-a9f8-404e-9789-7f2b50c29841"
      },
      "execution_count": 16,
      "outputs": [
        {
          "output_type": "execute_result",
          "data": {
            "text/plain": [
              "3"
            ]
          },
          "metadata": {},
          "execution_count": 16
        }
      ]
    },
    {
      "cell_type": "code",
      "source": [
        "x*y"
      ],
      "metadata": {
        "colab": {
          "base_uri": "https://localhost:8080/"
        },
        "id": "VEVyEyAvVWgC",
        "outputId": "87733afe-a327-4c03-8032-d68fac59fc21"
      },
      "execution_count": 17,
      "outputs": [
        {
          "output_type": "execute_result",
          "data": {
            "text/plain": [
              "10"
            ]
          },
          "metadata": {},
          "execution_count": 17
        }
      ]
    },
    {
      "cell_type": "code",
      "source": [
        "# Floor Division (rounds down the answer to the nearest whole number)\n",
        "\n",
        "x//y"
      ],
      "metadata": {
        "colab": {
          "base_uri": "https://localhost:8080/"
        },
        "id": "fnI6Es_aVY5-",
        "outputId": "0d758528-c3e0-4c4f-acb1-75ffa8b78485"
      },
      "execution_count": 19,
      "outputs": [
        {
          "output_type": "execute_result",
          "data": {
            "text/plain": [
              "2"
            ]
          },
          "metadata": {},
          "execution_count": 19
        }
      ]
    },
    {
      "cell_type": "code",
      "source": [
        "# Modulus (gives the remainder when 5 is divided by 2)\n",
        "x%y"
      ],
      "metadata": {
        "colab": {
          "base_uri": "https://localhost:8080/"
        },
        "id": "K6kSzy_0VcBI",
        "outputId": "7cf2a4e4-2d13-44aa-895f-81f3f7338528"
      },
      "execution_count": 21,
      "outputs": [
        {
          "output_type": "execute_result",
          "data": {
            "text/plain": [
              "1"
            ]
          },
          "metadata": {},
          "execution_count": 21
        }
      ]
    },
    {
      "cell_type": "code",
      "source": [
        "# (5 to the power of 2)\n",
        "\n",
        "x**y"
      ],
      "metadata": {
        "colab": {
          "base_uri": "https://localhost:8080/"
        },
        "id": "_FTUM4AyVlQR",
        "outputId": "1d592595-a236-4b4f-8195-7beb6d2778d7"
      },
      "execution_count": 23,
      "outputs": [
        {
          "output_type": "execute_result",
          "data": {
            "text/plain": [
              "25"
            ]
          },
          "metadata": {},
          "execution_count": 23
        }
      ]
    },
    {
      "cell_type": "code",
      "source": [
        "x = 10\n",
        "x = x + 2\n",
        "print(x)\n",
        "x = 10\n",
        "x += 2\n",
        "print(x)"
      ],
      "metadata": {
        "colab": {
          "base_uri": "https://localhost:8080/"
        },
        "id": "LSaGjt7QV1ps",
        "outputId": "3fd1a892-266c-41a0-d5cb-51ea8a639d62"
      },
      "execution_count": 24,
      "outputs": [
        {
          "output_type": "stream",
          "name": "stdout",
          "text": [
            "12\n",
            "12\n"
          ]
        }
      ]
    },
    {
      "cell_type": "markdown",
      "source": [
        "# Chapter 4: Data Types In python\n",
        "## 4.1 Integers\n",
        "Integers are numbers with no decimal parts, such as -5, -4, -3, 0, 5, 7 etc.\n",
        "\n",
        "## 4.2 Float\n",
        "Float refers to numbers that have decimal parts, such as 1.234, -0.023, 12.01.\n",
        "\n",
        "## 4.3 String\n",
        "String refers to text.\n",
        "\n",
        "\n"
      ],
      "metadata": {
        "id": "gUd5Hb9FWd-h"
      }
    },
    {
      "cell_type": "code",
      "source": [
        "# Intergers\n",
        "userAge = 20\n",
        "print(userAge)\n",
        "print(type(userAge))"
      ],
      "metadata": {
        "colab": {
          "base_uri": "https://localhost:8080/"
        },
        "id": "69Z9TFPfWdkI",
        "outputId": "c9f16913-58d8-4d79-9bd3-ee48faf0fb21"
      },
      "execution_count": 26,
      "outputs": [
        {
          "output_type": "stream",
          "name": "stdout",
          "text": [
            "20\n",
            "<class 'int'>\n"
          ]
        }
      ]
    },
    {
      "cell_type": "code",
      "source": [
        "# Floats\n",
        "userHeight = 1.82\n",
        "print(userHeight)\n",
        "print(type(userHeight))"
      ],
      "metadata": {
        "colab": {
          "base_uri": "https://localhost:8080/"
        },
        "id": "dzXLoR94WP6i",
        "outputId": "c20bae88-0d31-437d-c238-3a23403e3af7"
      },
      "execution_count": 27,
      "outputs": [
        {
          "output_type": "stream",
          "name": "stdout",
          "text": [
            "1.82\n",
            "<class 'float'>\n"
          ]
        }
      ]
    },
    {
      "cell_type": "code",
      "source": [
        "# Strings\n"
      ],
      "metadata": {
        "id": "M3zTu9-MXexS"
      },
      "execution_count": null,
      "outputs": []
    }
  ]
}