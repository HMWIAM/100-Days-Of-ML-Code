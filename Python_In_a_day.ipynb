{
  "nbformat": 4,
  "nbformat_minor": 0,
  "metadata": {
    "colab": {
      "provenance": [],
      "authorship_tag": "ABX9TyNuTY5Kf277iZOmzwOU+joD",
      "include_colab_link": true
    },
    "kernelspec": {
      "name": "python3",
      "display_name": "Python 3"
    },
    "language_info": {
      "name": "python"
    }
  },
  "cells": [
    {
      "cell_type": "markdown",
      "metadata": {
        "id": "view-in-github",
        "colab_type": "text"
      },
      "source": [
        "<a href=\"https://colab.research.google.com/github/HMWIAM/100-Days-Of-ML-Code/blob/master/Python_In_a_day.ipynb\" target=\"_parent\"><img src=\"https://colab.research.google.com/assets/colab-badge.svg\" alt=\"Open In Colab\"/></a>"
      ]
    },
    {
      "cell_type": "code",
      "execution_count": 100,
      "metadata": {
        "colab": {
          "base_uri": "https://localhost:8080/"
        },
        "id": "PjQpaubjRCO_",
        "outputId": "1de3f799-a17e-42d5-b37b-a467e7839885"
      },
      "outputs": [
        {
          "output_type": "execute_result",
          "data": {
            "text/plain": [
              "5"
            ]
          },
          "metadata": {},
          "execution_count": 100
        }
      ],
      "source": [
        "2+3"
      ]
    },
    {
      "cell_type": "code",
      "source": [
        "3>2"
      ],
      "metadata": {
        "colab": {
          "base_uri": "https://localhost:8080/"
        },
        "id": "q2Pr-jSMRv9X",
        "outputId": "9dd2a185-9ed0-45ec-abf3-f2ade422b349"
      },
      "execution_count": 101,
      "outputs": [
        {
          "output_type": "execute_result",
          "data": {
            "text/plain": [
              "True"
            ]
          },
          "metadata": {},
          "execution_count": 101
        }
      ]
    },
    {
      "cell_type": "code",
      "source": [
        "print(\"Hello\")"
      ],
      "metadata": {
        "colab": {
          "base_uri": "https://localhost:8080/"
        },
        "id": "xUh1RqirR0EO",
        "outputId": "3195662e-7627-4966-e243-9717f36cf821"
      },
      "execution_count": 102,
      "outputs": [
        {
          "output_type": "stream",
          "name": "stdout",
          "text": [
            "Hello\n"
          ]
        }
      ]
    },
    {
      "cell_type": "code",
      "source": [
        "#Prints This\n",
        "print(\"Hello World\")"
      ],
      "metadata": {
        "colab": {
          "base_uri": "https://localhost:8080/"
        },
        "id": "MVnWNUq2R2o-",
        "outputId": "69b9c1ad-efbe-4be2-b221-539ad908e559"
      },
      "execution_count": 103,
      "outputs": [
        {
          "output_type": "stream",
          "name": "stdout",
          "text": [
            "Hello World\n"
          ]
        }
      ]
    },
    {
      "cell_type": "code",
      "source": [
        "#Multiline Comments"
      ],
      "metadata": {
        "id": "HeOqCl0JSFzx"
      },
      "execution_count": 104,
      "outputs": []
    },
    {
      "cell_type": "code",
      "source": [
        "'''\n",
        "This is a multiline comment\n",
        "'''"
      ],
      "metadata": {
        "colab": {
          "base_uri": "https://localhost:8080/",
          "height": 35
        },
        "id": "z_5JalFoSL1O",
        "outputId": "c183c061-03c8-45d2-98e4-a52333e1e3bc"
      },
      "execution_count": 105,
      "outputs": [
        {
          "output_type": "execute_result",
          "data": {
            "text/plain": [
              "'\\nThis is a multiline comment\\n'"
            ],
            "application/vnd.google.colaboratory.intrinsic+json": {
              "type": "string"
            }
          },
          "metadata": {},
          "execution_count": 105
        }
      ]
    },
    {
      "cell_type": "markdown",
      "source": [
        "## Chapter 3: Variables and operators\n",
        "Variables are names given to data that we need to store and manipulate in our programs.\n",
        "\n"
      ],
      "metadata": {
        "id": "9Zk1nk_mS2Nj"
      }
    },
    {
      "cell_type": "code",
      "source": [
        "userAge = 0"
      ],
      "metadata": {
        "id": "w8dOVWITSQWv"
      },
      "execution_count": 106,
      "outputs": []
    },
    {
      "cell_type": "code",
      "source": [
        "userAge"
      ],
      "metadata": {
        "colab": {
          "base_uri": "https://localhost:8080/"
        },
        "id": "7CQpmqfgTHgZ",
        "outputId": "6529d0d4-26bf-4e5d-e10d-43746c7e5b94"
      },
      "execution_count": 107,
      "outputs": [
        {
          "output_type": "execute_result",
          "data": {
            "text/plain": [
              "0"
            ]
          },
          "metadata": {},
          "execution_count": 107
        }
      ]
    },
    {
      "cell_type": "markdown",
      "source": [
        "We can also define multiple variables at one go.\n",
        "\n"
      ],
      "metadata": {
        "id": "5prxc8K1TSx9"
      }
    },
    {
      "cell_type": "code",
      "source": [
        "userAge, userName = 30, 'Peter'"
      ],
      "metadata": {
        "id": "H-BAo3T5TI5g"
      },
      "execution_count": 108,
      "outputs": []
    },
    {
      "cell_type": "code",
      "source": [
        "userAge"
      ],
      "metadata": {
        "colab": {
          "base_uri": "https://localhost:8080/"
        },
        "id": "4e9-kuxJTYo3",
        "outputId": "faef2d0c-aa3b-432f-c73b-c99ccb135ca2"
      },
      "execution_count": 109,
      "outputs": [
        {
          "output_type": "execute_result",
          "data": {
            "text/plain": [
              "30"
            ]
          },
          "metadata": {},
          "execution_count": 109
        }
      ]
    },
    {
      "cell_type": "code",
      "source": [
        "userName"
      ],
      "metadata": {
        "colab": {
          "base_uri": "https://localhost:8080/",
          "height": 35
        },
        "id": "41snUU_PTbgP",
        "outputId": "ab925da7-800c-4ea2-eea9-6a37451c8250"
      },
      "execution_count": 110,
      "outputs": [
        {
          "output_type": "execute_result",
          "data": {
            "text/plain": [
              "'Peter'"
            ],
            "application/vnd.google.colaboratory.intrinsic+json": {
              "type": "string"
            }
          },
          "metadata": {},
          "execution_count": 110
        }
      ]
    },
    {
      "cell_type": "code",
      "source": [
        "userAge, userName"
      ],
      "metadata": {
        "colab": {
          "base_uri": "https://localhost:8080/"
        },
        "id": "WfcFPYnGTdJL",
        "outputId": "d1ae6c63-594a-490a-c201-db7cca03941e"
      },
      "execution_count": 111,
      "outputs": [
        {
          "output_type": "execute_result",
          "data": {
            "text/plain": [
              "(30, 'Peter')"
            ]
          },
          "metadata": {},
          "execution_count": 111
        }
      ]
    },
    {
      "cell_type": "markdown",
      "source": [
        "3.2 Naming a Variable\n",
        "\n",
        " A variable name in Python can only contain letters (a - z, A - B), numbers or underscores (_). However, the first character cannot be a number. Hence, you can name your variables userName, user_name or userName2 but not 2userName. In addition, there are some reserved words that you cannot use as a variable name because they already have preassigned meanings in Python. These reserved words include words like print, input, if, while etc. We’ll learn about each of them in subsequent chapters. Finally, variable names are case sensitive. username is not the same as userName.\n",
        "\n"
      ],
      "metadata": {
        "id": "rlEbdtbbTmwW"
      }
    },
    {
      "cell_type": "code",
      "source": [
        "x = 5\n",
        "y = 10\n",
        "x = y\n",
        "print(\"x = \", x)\n",
        "print(\"y =  \", y)"
      ],
      "metadata": {
        "colab": {
          "base_uri": "https://localhost:8080/"
        },
        "id": "p9R5_Xg_ThFD",
        "outputId": "efcf0a45-ed32-4570-a495-cf5e438fc42c"
      },
      "execution_count": 112,
      "outputs": [
        {
          "output_type": "stream",
          "name": "stdout",
          "text": [
            "x =  10\n",
            "y =   10\n"
          ]
        }
      ]
    },
    {
      "cell_type": "markdown",
      "source": [
        "## 3.4 Basic Operators\n",
        " Besides assigning a variable an initial value, we can also perform the usual mathematical operations on variables. Basic operators in Python include +, -, *, /, //, % and ** which represent addition, subtraction, multiplication, division, floor division, modulus and exponent respectively.\n",
        "\n"
      ],
      "metadata": {
        "id": "bg1FyjR0VGg8"
      }
    },
    {
      "cell_type": "code",
      "source": [
        "x = 5\n",
        "y = 2\n",
        "x+y"
      ],
      "metadata": {
        "colab": {
          "base_uri": "https://localhost:8080/"
        },
        "id": "dRyT-PFpUGpv",
        "outputId": "f86e6d1b-4ee3-417c-8e56-d3889e9843d0"
      },
      "execution_count": 113,
      "outputs": [
        {
          "output_type": "execute_result",
          "data": {
            "text/plain": [
              "7"
            ]
          },
          "metadata": {},
          "execution_count": 113
        }
      ]
    },
    {
      "cell_type": "code",
      "source": [
        "x-y"
      ],
      "metadata": {
        "colab": {
          "base_uri": "https://localhost:8080/"
        },
        "id": "A6644FMBVVNX",
        "outputId": "bc0f9459-a60f-4316-bcf2-a0024a2ae574"
      },
      "execution_count": 114,
      "outputs": [
        {
          "output_type": "execute_result",
          "data": {
            "text/plain": [
              "3"
            ]
          },
          "metadata": {},
          "execution_count": 114
        }
      ]
    },
    {
      "cell_type": "code",
      "source": [
        "x*y"
      ],
      "metadata": {
        "colab": {
          "base_uri": "https://localhost:8080/"
        },
        "id": "VEVyEyAvVWgC",
        "outputId": "55c9ae54-0773-4fd3-b9d1-d34ac99ebe2e"
      },
      "execution_count": 115,
      "outputs": [
        {
          "output_type": "execute_result",
          "data": {
            "text/plain": [
              "10"
            ]
          },
          "metadata": {},
          "execution_count": 115
        }
      ]
    },
    {
      "cell_type": "code",
      "source": [
        "# Floor Division (rounds down the answer to the nearest whole number)\n",
        "\n",
        "x//y"
      ],
      "metadata": {
        "colab": {
          "base_uri": "https://localhost:8080/"
        },
        "id": "fnI6Es_aVY5-",
        "outputId": "fe151f72-62c0-419b-b32e-bef53202bc5e"
      },
      "execution_count": 116,
      "outputs": [
        {
          "output_type": "execute_result",
          "data": {
            "text/plain": [
              "2"
            ]
          },
          "metadata": {},
          "execution_count": 116
        }
      ]
    },
    {
      "cell_type": "code",
      "source": [
        "# Modulus (gives the remainder when 5 is divided by 2)\n",
        "x%y"
      ],
      "metadata": {
        "colab": {
          "base_uri": "https://localhost:8080/"
        },
        "id": "K6kSzy_0VcBI",
        "outputId": "52c165f5-a88a-429b-b688-0fd4f409140a"
      },
      "execution_count": 117,
      "outputs": [
        {
          "output_type": "execute_result",
          "data": {
            "text/plain": [
              "1"
            ]
          },
          "metadata": {},
          "execution_count": 117
        }
      ]
    },
    {
      "cell_type": "code",
      "source": [
        "# (5 to the power of 2)\n",
        "\n",
        "x**y"
      ],
      "metadata": {
        "colab": {
          "base_uri": "https://localhost:8080/"
        },
        "id": "_FTUM4AyVlQR",
        "outputId": "f166911a-e7f8-4c9a-e45d-bf8e3a2cc8cf"
      },
      "execution_count": 118,
      "outputs": [
        {
          "output_type": "execute_result",
          "data": {
            "text/plain": [
              "25"
            ]
          },
          "metadata": {},
          "execution_count": 118
        }
      ]
    },
    {
      "cell_type": "code",
      "source": [
        "x = 10\n",
        "x = x + 2\n",
        "print(x)\n",
        "x = 10\n",
        "x += 2\n",
        "print(x)"
      ],
      "metadata": {
        "colab": {
          "base_uri": "https://localhost:8080/"
        },
        "id": "LSaGjt7QV1ps",
        "outputId": "39c11c28-14d1-498b-ef2e-dc645bd76e1d"
      },
      "execution_count": 119,
      "outputs": [
        {
          "output_type": "stream",
          "name": "stdout",
          "text": [
            "12\n",
            "12\n"
          ]
        }
      ]
    },
    {
      "cell_type": "markdown",
      "source": [
        "# Chapter 4: Data Types In python\n",
        "## 4.1 Integers\n",
        "Integers are numbers with no decimal parts, such as -5, -4, -3, 0, 5, 7 etc.\n",
        "\n",
        "## 4.2 Float\n",
        "Float refers to numbers that have decimal parts, such as 1.234, -0.023, 12.01.\n",
        "\n",
        "## 4.3 String\n",
        "String refers to text.\n",
        "\n",
        "\n"
      ],
      "metadata": {
        "id": "gUd5Hb9FWd-h"
      }
    },
    {
      "cell_type": "code",
      "source": [
        "# Intergers\n",
        "userAge = 20\n",
        "print(userAge)\n",
        "print(type(userAge))"
      ],
      "metadata": {
        "colab": {
          "base_uri": "https://localhost:8080/"
        },
        "id": "69Z9TFPfWdkI",
        "outputId": "751fcebb-7d1e-424e-a736-c2eccfef5853"
      },
      "execution_count": 120,
      "outputs": [
        {
          "output_type": "stream",
          "name": "stdout",
          "text": [
            "20\n",
            "<class 'int'>\n"
          ]
        }
      ]
    },
    {
      "cell_type": "code",
      "source": [
        "# Floats\n",
        "userHeight = 1.82\n",
        "print(userHeight)\n",
        "print(type(userHeight))"
      ],
      "metadata": {
        "colab": {
          "base_uri": "https://localhost:8080/"
        },
        "id": "dzXLoR94WP6i",
        "outputId": "3a08e354-6711-4ada-a3ff-b4f27689360d"
      },
      "execution_count": 121,
      "outputs": [
        {
          "output_type": "stream",
          "name": "stdout",
          "text": [
            "1.82\n",
            "<class 'float'>\n"
          ]
        }
      ]
    },
    {
      "cell_type": "code",
      "source": [
        "# Strings\n",
        "userName = 'Peter'\n",
        "print(userName)\n",
        "print(type(userName))"
      ],
      "metadata": {
        "colab": {
          "base_uri": "https://localhost:8080/"
        },
        "id": "M3zTu9-MXexS",
        "outputId": "51d48a48-caeb-4d53-9e31-11a55c43fb45"
      },
      "execution_count": 122,
      "outputs": [
        {
          "output_type": "stream",
          "name": "stdout",
          "text": [
            "Peter\n",
            "<class 'str'>\n"
          ]
        }
      ]
    },
    {
      "cell_type": "markdown",
      "source": [
        "### Built In String Functions"
      ],
      "metadata": {
        "id": "7MRuCwFwZF1B"
      }
    },
    {
      "cell_type": "code",
      "source": [
        "userName.upper()"
      ],
      "metadata": {
        "colab": {
          "base_uri": "https://localhost:8080/",
          "height": 35
        },
        "id": "g4zVzr1kYdqu",
        "outputId": "8d2a0187-7353-4aa4-a324-3a1a8df955c4"
      },
      "execution_count": 123,
      "outputs": [
        {
          "output_type": "execute_result",
          "data": {
            "text/plain": [
              "'PETER'"
            ],
            "application/vnd.google.colaboratory.intrinsic+json": {
              "type": "string"
            }
          },
          "metadata": {},
          "execution_count": 123
        }
      ]
    },
    {
      "cell_type": "markdown",
      "source": [
        "## Formatting Strings using the % Operator\n",
        "Strings can also be formatted using the % operator. This gives you greater control over how you want your string to be displayed and stored. The syntax for using the % operator is \"string to be formatted\" %(values or variables to be inserted into string, separated by commas) There are three parts to this syntax. First we write the string to be formatted in quotes. Next we write the % symbol. Finally, we have a pair of parentheses ( ) within which we write the values or variables to be inserted into the string. This parentheses with values inside is actually known as a tuple, a data type that we’ll cover later in this chapter.\n",
        "\n",
        "%s, %d and %4.2f are known as formatters; they serve as placeholders in the string.\n",
        "\n",
        "%s, %d and %4.2f are known as formatters; they serve as placeholders in the string. These placeholders will be replaced with the variable brand, the value 1299 and the variable exchangeRate respectively, as indicated in the parentheses. If we run the code, we’ll get the output below. The price of this Apple laptop is 1299 USD and the exchange rate is 1.24 USD to 1 EUR The %s formatter is used to represent a string ('Apple' in this case) while the %d formatter represents an integer (1299). If we want to add spaces before an integer, we can add a number between % and d to indicate the desired length of the string. For instance \"%5d\" %(123) will give us \"  123\" (with 2 spaces in front and a total length of 5). The %f formatter is used to format floats (numbers with decimals). Here we format it as %4.2f where 4 refers to the total length and 2 refers to 2 decimal places. If we want to add spaces before the number, we can format it as %7.2f, which will give us \"   1.24\" (with 2 decimal places, 3 spaces in front and a total length of 7).\n",
        "\n",
        "\n"
      ],
      "metadata": {
        "id": "yUHyOU0uZUnP"
      }
    },
    {
      "cell_type": "code",
      "source": [
        "brand = 'Apple'\n",
        "exchangeRate = 1.235235245\n",
        "message = 'The price of this %s laptop is %d USD and the exchange rate is %4.2f USD to 1 EUR' %(brand, 1299, exchangeRate)"
      ],
      "metadata": {
        "id": "BpvpiLAJZQ0a"
      },
      "execution_count": 124,
      "outputs": []
    },
    {
      "cell_type": "code",
      "source": [
        "message"
      ],
      "metadata": {
        "colab": {
          "base_uri": "https://localhost:8080/",
          "height": 35
        },
        "id": "etQ94q87aKAd",
        "outputId": "95547034-c7a0-48c4-f8cc-8b0aa2480760"
      },
      "execution_count": 125,
      "outputs": [
        {
          "output_type": "execute_result",
          "data": {
            "text/plain": [
              "'The price of this Apple laptop is 1299 USD and the exchange rate is 1.24 USD to 1 EUR'"
            ],
            "application/vnd.google.colaboratory.intrinsic+json": {
              "type": "string"
            }
          },
          "metadata": {},
          "execution_count": 125
        }
      ]
    },
    {
      "cell_type": "markdown",
      "source": [
        "## Formatting Strings using the Format method\n",
        "\n",
        "\"string to be formatted\".format(values or variables to be inserted into string, separated by commas)\n",
        "\n"
      ],
      "metadata": {
        "id": "wGmmRpjIbLrm"
      }
    },
    {
      "cell_type": "code",
      "source": [
        "message = 'The price of this {} laptop is  {} USD and the exchange rate is  {} USD to 1 EUR'.format('Apple', 1299, 1.235)"
      ],
      "metadata": {
        "id": "Hxzrk4-kaMWZ"
      },
      "execution_count": 126,
      "outputs": []
    },
    {
      "cell_type": "code",
      "source": [
        "message"
      ],
      "metadata": {
        "colab": {
          "base_uri": "https://localhost:8080/",
          "height": 35
        },
        "id": "QGPZK0FSbxJQ",
        "outputId": "142193ed-54c5-4636-fe4a-999e3b1f1e5e"
      },
      "execution_count": 127,
      "outputs": [
        {
          "output_type": "execute_result",
          "data": {
            "text/plain": [
              "'The price of this Apple laptop is  1299 USD and the exchange rate is  1.235 USD to 1 EUR'"
            ],
            "application/vnd.google.colaboratory.intrinsic+json": {
              "type": "string"
            }
          },
          "metadata": {},
          "execution_count": 127
        }
      ]
    },
    {
      "cell_type": "code",
      "source": [
        "message_1 = '{0} is easier than {1}'.format('Python', 'Java')\n",
        "message_2 = '{1} is easier than {0}'.format('Python', 'Java')\n",
        "print(message_1,\n",
        "      message_2)"
      ],
      "metadata": {
        "colab": {
          "base_uri": "https://localhost:8080/"
        },
        "id": "0xXXnD2rbybK",
        "outputId": "475639f7-1fd6-4aff-b0ec-04d91a193296"
      },
      "execution_count": 128,
      "outputs": [
        {
          "output_type": "stream",
          "name": "stdout",
          "text": [
            "Python is easier than Java Java is easier than Python\n"
          ]
        }
      ]
    },
    {
      "cell_type": "code",
      "source": [
        "message_3 = '{:10.2f} and {:d}'.format(1.234, 12)\n",
        "print(message_3)"
      ],
      "metadata": {
        "colab": {
          "base_uri": "https://localhost:8080/"
        },
        "id": "hk7T6NcUcTgm",
        "outputId": "876592be-e479-4e52-ce19-47f24227e4b6"
      },
      "execution_count": 129,
      "outputs": [
        {
          "output_type": "stream",
          "name": "stdout",
          "text": [
            "      1.23 and 12\n"
          ]
        }
      ]
    },
    {
      "cell_type": "code",
      "source": [
        "message_4 = '{}'.format(1.23556456)\n",
        "print(message_4)"
      ],
      "metadata": {
        "colab": {
          "base_uri": "https://localhost:8080/"
        },
        "id": "SEBSiYGmcyuT",
        "outputId": "0680fa2d-8670-47d3-f219-f146bd793ee2"
      },
      "execution_count": 130,
      "outputs": [
        {
          "output_type": "stream",
          "name": "stdout",
          "text": [
            "1.23556456\n"
          ]
        }
      ]
    },
    {
      "cell_type": "markdown",
      "source": [
        "## Type Casting in Python\n",
        "\n",
        "\n",
        "such as from an integer to a string. This is known as type casting. There are three built-in functions in Python that allow us to do type casting. These are the int(), float(), and str() functions. The int() function in Python takes in a float or an appropriate string and converts it to an integer. To change a float to an integer, we can type int(5.712987). We’ll get 5 as the result (anything after the decimal point is removed). To change a string to an integer, we can type int(\"4\") and we’ll get 4. However, we cannot type int(\"Hello\") or int(\"4.22321\"). We’ll get an error in both cases. The float() function takes in an integer or an appropriate string and changes it to a float. For instance, if we type float(2) or float(\"2\"), we’ll get 2.0. If we type float(\"2.09109\"), we’ll get 2.09109 which is a float and not a string since the quotation marks are removed. The str() function on the other hand converts an integer or a float to a string. For instance, if we type str(2.1), we’ll get \"2.1\".\n",
        "\n"
      ],
      "metadata": {
        "id": "lssuDLr6evFz"
      }
    },
    {
      "cell_type": "code",
      "source": [
        "name = \"42\"\n",
        "print(type(name))\n",
        "name = int(name)\n",
        "print(type(name))"
      ],
      "metadata": {
        "colab": {
          "base_uri": "https://localhost:8080/"
        },
        "id": "5Eb4hpD6e56H",
        "outputId": "c0887856-5de6-40ab-d3b9-8553c81c4ff4"
      },
      "execution_count": 131,
      "outputs": [
        {
          "output_type": "stream",
          "name": "stdout",
          "text": [
            "<class 'str'>\n",
            "<class 'int'>\n"
          ]
        }
      ]
    },
    {
      "cell_type": "code",
      "source": [
        "floating = 4.42564\n",
        "print(type(floating))\n",
        "floating = int(floating)\n",
        "print(type(floating))\n",
        "floating = str(floating)\n",
        "print(type(floating))"
      ],
      "metadata": {
        "colab": {
          "base_uri": "https://localhost:8080/"
        },
        "id": "oKW3fB3ZfKWY",
        "outputId": "b7b7acd0-1fd4-4729-c8e6-02b04fba1f85"
      },
      "execution_count": 132,
      "outputs": [
        {
          "output_type": "stream",
          "name": "stdout",
          "text": [
            "<class 'float'>\n",
            "<class 'int'>\n",
            "<class 'str'>\n"
          ]
        }
      ]
    },
    {
      "cell_type": "markdown",
      "source": [
        "## 4.5 Lists\n",
        "List refers to a collection of data which are normally related. Instead of storing these data as separate variables, we can store them as a list. For instance, suppose our program needs to store the age of 5 users. Instead of storing them as user1Age, user2Age, user3Age, user4Age and user5Age, it makes more sense to store them as a list.\n"
      ],
      "metadata": {
        "id": "7iuIisFCfls3"
      }
    },
    {
      "cell_type": "code",
      "source": [
        "userAge = [21.22,23,24,25]"
      ],
      "metadata": {
        "id": "dXZuyXqffc5r"
      },
      "execution_count": 133,
      "outputs": []
    },
    {
      "cell_type": "code",
      "source": [
        "userAge"
      ],
      "metadata": {
        "id": "3ixFgvbPf4N7",
        "colab": {
          "base_uri": "https://localhost:8080/"
        },
        "outputId": "87a10797-0106-4b48-d4dc-7906951c5f32"
      },
      "execution_count": 134,
      "outputs": [
        {
          "output_type": "execute_result",
          "data": {
            "text/plain": [
              "[21.22, 23, 24, 25]"
            ]
          },
          "metadata": {},
          "execution_count": 134
        }
      ]
    },
    {
      "cell_type": "code",
      "source": [],
      "metadata": {
        "id": "_cG0-vCpgAgA"
      },
      "execution_count": 134,
      "outputs": []
    }
  ]
}