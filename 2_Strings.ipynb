{
  "nbformat": 4,
  "nbformat_minor": 0,
  "metadata": {
    "colab": {
      "provenance": [],
      "authorship_tag": "ABX9TyOyYYbIi04ZT1SYNdmjpBqB",
      "include_colab_link": true
    },
    "kernelspec": {
      "name": "python3",
      "display_name": "Python 3"
    },
    "language_info": {
      "name": "python"
    }
  },
  "cells": [
    {
      "cell_type": "markdown",
      "metadata": {
        "id": "view-in-github",
        "colab_type": "text"
      },
      "source": [
        "<a href=\"https://colab.research.google.com/github/HMWIAM/100-Days-Of-ML-Code/blob/master/2_Strings.ipynb\" target=\"_parent\"><img src=\"https://colab.research.google.com/assets/colab-badge.svg\" alt=\"Open In Colab\"/></a>"
      ]
    },
    {
      "cell_type": "markdown",
      "source": [
        "A string is a sequence of characters contained within a pair of 'single quotes' or \"double quotes\". A string can be any length and can contain any letters, numbers, symbols, and spaces.\n"
      ],
      "metadata": {
        "id": "T46CDnl5q6HV"
      }
    },
    {
      "cell_type": "code",
      "execution_count": 1,
      "metadata": {
        "colab": {
          "base_uri": "https://localhost:8080/"
        },
        "id": "LYEdhlfAqi2b",
        "outputId": "01241cd4-dbac-4bd1-fca6-96cad0fd8fee"
      },
      "outputs": [
        {
          "output_type": "stream",
          "name": "stdout",
          "text": [
            "Cat\n"
          ]
        }
      ],
      "source": [
        "favorite_word = 'Cat'\n",
        "print(favorite_word)"
      ]
    },
    {
      "cell_type": "markdown",
      "source": [
        "A string can be thought of as a list of characters.\n",
        "\n",
        "Like any other list, each character in a string has an index."
      ],
      "metadata": {
        "id": "3-M6CJobrHoB"
      }
    },
    {
      "cell_type": "code",
      "source": [
        "favorite_fruit = \"blueberry\"\n",
        "print(favorite_fruit[1])\n"
      ],
      "metadata": {
        "colab": {
          "base_uri": "https://localhost:8080/"
        },
        "id": "UTuYLRJBrBT-",
        "outputId": "60713984-b200-424a-b1fb-c9b6d8dee03b"
      },
      "execution_count": 2,
      "outputs": [
        {
          "output_type": "stream",
          "name": "stdout",
          "text": [
            "l\n"
          ]
        }
      ]
    },
    {
      "cell_type": "code",
      "source": [
        "my_name = 'Henry'\n",
        "first_initial = my_name[0]\n",
        "print(first_initial)"
      ],
      "metadata": {
        "colab": {
          "base_uri": "https://localhost:8080/"
        },
        "id": "UjmE_hearQOA",
        "outputId": "a61cb4f7-906f-45d5-a7e9-1300c6080830"
      },
      "execution_count": 3,
      "outputs": [
        {
          "output_type": "stream",
          "name": "stdout",
          "text": [
            "H\n"
          ]
        }
      ]
    },
    {
      "cell_type": "markdown",
      "source": [
        "### Slicing strings\n",
        "Not only can we select a single character from a string, but we can also select entire chunks of characters from a string. We can do this with the following syntax:\n",
        "\n",
        "string[first_index:last_index]\n",
        "\n",
        "This is called slicing a string. When we slice a string we are creating a substring - a brand new string that starts at (and includes) the first_index and ends at (but excludes) the last_index."
      ],
      "metadata": {
        "id": "aHT3J-7DrXAZ"
      }
    },
    {
      "cell_type": "code",
      "source": [
        "first_name = \"Rodrigo\"\n",
        "last_name = \"Villanueva\"\n",
        "\n",
        "new_account = last_name[:5]\n",
        "print(new_account)\n",
        "\n",
        "temp_password = last_name[2:6]\n",
        "print(temp_password)"
      ],
      "metadata": {
        "colab": {
          "base_uri": "https://localhost:8080/"
        },
        "id": "L2D84jXarTwz",
        "outputId": "35b3f97b-e13e-4f4b-a571-6ef18a7f1aa3"
      },
      "execution_count": 4,
      "outputs": [
        {
          "output_type": "stream",
          "name": "stdout",
          "text": [
            "Villa\n",
            "llan\n"
          ]
        }
      ]
    },
    {
      "cell_type": "markdown",
      "source": [
        "### Concatenating strings\n",
        "We can also concatenate, or combine, two existing strings together into a new string."
      ],
      "metadata": {
        "id": "nrA7pS2PrnyZ"
      }
    },
    {
      "cell_type": "code",
      "source": [
        "fruit_prefix = \"blue\"\n",
        "fruit_suffix = \"berries\"\n",
        "favorite_fruit = fruit_prefix + fruit_suffix\n",
        "\n",
        "print(favorite_fruit)"
      ],
      "metadata": {
        "colab": {
          "base_uri": "https://localhost:8080/"
        },
        "id": "GkoGf6zIrgm4",
        "outputId": "1efcdeac-7365-46ba-e1cd-a40d8e64c243"
      },
      "execution_count": 5,
      "outputs": [
        {
          "output_type": "stream",
          "name": "stdout",
          "text": [
            "blueberries\n"
          ]
        }
      ]
    },
    {
      "cell_type": "code",
      "source": [
        "first_name = \"Julie\"\n",
        "last_name = \"Blevins\"\n",
        "\n",
        "def account_generator(first_name, last_name):\n",
        "  user_name = first_name[:3] + last_name[:3]\n",
        "  return user_name\n",
        "\n",
        "new_account = account_generator(first_name, last_name)\n",
        "print(new_account)"
      ],
      "metadata": {
        "colab": {
          "base_uri": "https://localhost:8080/"
        },
        "id": "17-TtUJRr_gM",
        "outputId": "2e9874b3-c86a-451a-d41e-27f525c0f111"
      },
      "execution_count": 6,
      "outputs": [
        {
          "output_type": "stream",
          "name": "stdout",
          "text": [
            "JulBle\n"
          ]
        }
      ]
    },
    {
      "cell_type": "markdown",
      "source": [
        "Python comes with some built-in functions for working with strings. One of the most commonly used of these functions is len(). len() returns the number of characters in a string:"
      ],
      "metadata": {
        "id": "_GMeEKCWsT7x"
      }
    },
    {
      "cell_type": "code",
      "source": [
        "favorite_fruit = \"blueberry\"\n",
        "\n",
        "length = len(favorite_fruit)\n",
        "\n",
        "print(length)"
      ],
      "metadata": {
        "colab": {
          "base_uri": "https://localhost:8080/"
        },
        "id": "vpChWfBXsLCT",
        "outputId": "0b6c9155-697b-44e4-d539-ab6df8b98e6d"
      },
      "execution_count": 7,
      "outputs": [
        {
          "output_type": "stream",
          "name": "stdout",
          "text": [
            "9\n"
          ]
        }
      ]
    },
    {
      "cell_type": "code",
      "source": [
        "fruit_sentence = \"I love blueberries\"\n",
        "\n",
        "print(len(fruit_sentence))"
      ],
      "metadata": {
        "colab": {
          "base_uri": "https://localhost:8080/"
        },
        "id": "XIri98wGsYlm",
        "outputId": "b9ace9c5-93a3-4774-f430-26ecb951ef26"
      },
      "execution_count": 8,
      "outputs": [
        {
          "output_type": "stream",
          "name": "stdout",
          "text": [
            "18\n"
          ]
        }
      ]
    },
    {
      "cell_type": "code",
      "source": [
        "last_char = favorite_fruit[len(favorite_fruit)]\n",
        "\n",
        "print(last_char)"
      ],
      "metadata": {
        "colab": {
          "base_uri": "https://localhost:8080/",
          "height": 180
        },
        "id": "_WRaqE62sdOh",
        "outputId": "d9e36221-f161-457c-e7aa-8e7de38e840f"
      },
      "execution_count": 9,
      "outputs": [
        {
          "output_type": "error",
          "ename": "IndexError",
          "evalue": "string index out of range",
          "traceback": [
            "\u001b[0;31m---------------------------------------------------------------------------\u001b[0m",
            "\u001b[0;31mIndexError\u001b[0m                                Traceback (most recent call last)",
            "\u001b[0;32m<ipython-input-9-2414ae790a29>\u001b[0m in \u001b[0;36m<cell line: 1>\u001b[0;34m()\u001b[0m\n\u001b[0;32m----> 1\u001b[0;31m \u001b[0mlast_char\u001b[0m \u001b[0;34m=\u001b[0m \u001b[0mfavorite_fruit\u001b[0m\u001b[0;34m[\u001b[0m\u001b[0mlen\u001b[0m\u001b[0;34m(\u001b[0m\u001b[0mfavorite_fruit\u001b[0m\u001b[0;34m)\u001b[0m\u001b[0;34m]\u001b[0m\u001b[0;34m\u001b[0m\u001b[0;34m\u001b[0m\u001b[0m\n\u001b[0m\u001b[1;32m      2\u001b[0m \u001b[0;34m\u001b[0m\u001b[0m\n\u001b[1;32m      3\u001b[0m \u001b[0mprint\u001b[0m\u001b[0;34m(\u001b[0m\u001b[0mlast_char\u001b[0m\u001b[0;34m)\u001b[0m\u001b[0;34m\u001b[0m\u001b[0;34m\u001b[0m\u001b[0m\n",
            "\u001b[0;31mIndexError\u001b[0m: string index out of range"
          ]
        }
      ]
    },
    {
      "cell_type": "markdown",
      "source": [
        "Why does this generate an IndexError? Because the indices start at 0, so the final character in favorite_fruit has an index of 8. len(favorite_fruit) returns 9 and, because there is no value at that index, an IndexError occurs.\n",
        "\n",
        "Instead, the last character in a string has an index that is len(string_name) - 1."
      ],
      "metadata": {
        "id": "w6qnoVYvssQG"
      }
    },
    {
      "cell_type": "code",
      "source": [
        "last_char = favorite_fruit[len(favorite_fruit)-1]\n",
        "\n",
        "print(last_char)"
      ],
      "metadata": {
        "colab": {
          "base_uri": "https://localhost:8080/"
        },
        "id": "tdljSRtAsg6A",
        "outputId": "8fbf4f38-0796-43f8-9a7f-1805c7cb8002"
      },
      "execution_count": 10,
      "outputs": [
        {
          "output_type": "stream",
          "name": "stdout",
          "text": [
            "y\n"
          ]
        }
      ]
    },
    {
      "cell_type": "code",
      "source": [
        "first_name = \"Reiko\"\n",
        "last_name = \"Matsuki\"\n",
        "\n",
        "def password_generator(first_name, last_name):\n",
        "  length_1 = len(first_name)\n",
        "  length_2 = len(last_name)\n",
        "  password = first_name[length_1 - 3:] + last_name[length_2 - 3:]\n",
        "  return password\n",
        "\n",
        "temp_password = password_generator(first_name, last_name)\n",
        "print(temp_password)"
      ],
      "metadata": {
        "colab": {
          "base_uri": "https://localhost:8080/"
        },
        "id": "XWJJdE8esogE",
        "outputId": "4ac30f82-61b8-45a7-c784-d4266349fb54"
      },
      "execution_count": 11,
      "outputs": [
        {
          "output_type": "stream",
          "name": "stdout",
          "text": [
            "ikouki\n"
          ]
        }
      ]
    },
    {
      "cell_type": "markdown",
      "source": [
        "### Negative Indices\n",
        "Negative indices count backward from the end of the string, so string_name[-1] is the last character of the string, string_name[-2] is the second last character of the string, etc."
      ],
      "metadata": {
        "id": "XQYkXvGCs6gE"
      }
    },
    {
      "cell_type": "code",
      "source": [
        "company_motto = \"Copeland's Corporate Company helps you capably cope with the constant cacophony of daily life\"\n",
        "\n",
        "second_to_last = company_motto[-2]\n",
        "print(second_to_last)\n",
        "\n",
        "final_word = company_motto[-4:]\n",
        "print(final_word)"
      ],
      "metadata": {
        "colab": {
          "base_uri": "https://localhost:8080/"
        },
        "id": "s1Wc6N09sxj9",
        "outputId": "5ca5466a-01d1-4139-b40b-ddcfdbfc4c30"
      },
      "execution_count": 12,
      "outputs": [
        {
          "output_type": "stream",
          "name": "stdout",
          "text": [
            "f\n",
            "life\n"
          ]
        }
      ]
    },
    {
      "cell_type": "markdown",
      "source": [
        "### Strings are immutable\n",
        "This means that we cannot change a string once it is created. We can use it to create other strings, but we cannot change the string itself.\n",
        "\n",
        "This property, generally, is known as mutability. Data types that are mutable can be changed, and data types, like strings, that are immutable cannot be changed."
      ],
      "metadata": {
        "id": "gSVbj2BqtRV0"
      }
    },
    {
      "cell_type": "code",
      "source": [
        "first_name = \"Bob\"\n",
        "last_name = \"Daily\"\n",
        "\n",
        "fixed_first_name = \"R\" + first_name[-2:]\n",
        "\n",
        "print(fixed_first_name)\n"
      ],
      "metadata": {
        "colab": {
          "base_uri": "https://localhost:8080/"
        },
        "id": "4cX9YHQ7tKTH",
        "outputId": "3c44b182-38ec-42a6-e823-a27a6bfc66a5"
      },
      "execution_count": 13,
      "outputs": [
        {
          "output_type": "stream",
          "name": "stdout",
          "text": [
            "Rob\n"
          ]
        }
      ]
    },
    {
      "cell_type": "markdown",
      "source": [
        "### Escape Characters\n",
        "\n",
        "Occasionally when working with strings, you’ll find that you want to include characters that already have a special meaning in python."
      ],
      "metadata": {
        "id": "Rhf_SW6BzXsN"
      }
    },
    {
      "cell_type": "code",
      "source": [
        "favorite_fruit_conversation = \"He said, \\\"blueberries are my favorite!\\\"\"\n",
        "print(favorite_fruit_conversation)"
      ],
      "metadata": {
        "colab": {
          "base_uri": "https://localhost:8080/"
        },
        "id": "7g7sBcmBzUB4",
        "outputId": "b60ceff9-1fc6-4023-8c71-8c77d8a8ba8c"
      },
      "execution_count": 15,
      "outputs": [
        {
          "output_type": "stream",
          "name": "stdout",
          "text": [
            "He said, \"blueberries are my favorite!\"\n"
          ]
        }
      ]
    },
    {
      "cell_type": "code",
      "source": [
        "password = \"theycallme\\\"crazy\\\"91\"\n",
        "print(password)"
      ],
      "metadata": {
        "colab": {
          "base_uri": "https://localhost:8080/"
        },
        "id": "2RNJbpuFzkI8",
        "outputId": "f83c91f2-cf22-441c-a7d1-d64cebdb0b7a"
      },
      "execution_count": 16,
      "outputs": [
        {
          "output_type": "stream",
          "name": "stdout",
          "text": [
            "theycallme\"crazy\"91\n"
          ]
        }
      ]
    },
    {
      "cell_type": "markdown",
      "source": [
        "### Iterating through strings\n",
        "Because strings are lists, that means we can iterate through a string using for or while loops. This opens up a whole range of possibilities of ways we can manipulate and analyze strings. Let’s take a look at an example."
      ],
      "metadata": {
        "id": "GcMAEb9Fzy5s"
      }
    },
    {
      "cell_type": "code",
      "source": [
        "def print_each_letter(word):\n",
        "  for letter in word:\n",
        "    print(letter)\n",
        "\n",
        "favorite_color = \"blue\"\n",
        "print_each_letter(favorite_color)"
      ],
      "metadata": {
        "colab": {
          "base_uri": "https://localhost:8080/"
        },
        "id": "abRdg8W8zsvh",
        "outputId": "a60fb8f9-cd1a-4f82-8da0-510b8cfa60d9"
      },
      "execution_count": 17,
      "outputs": [
        {
          "output_type": "stream",
          "name": "stdout",
          "text": [
            "b\n",
            "l\n",
            "u\n",
            "e\n"
          ]
        }
      ]
    },
    {
      "cell_type": "code",
      "source": [
        "def letter_check(word, letter):\n",
        "  for w in word:\n",
        "    if w == letter:\n",
        "      return True\n",
        "  return False\n",
        "\n",
        "\n",
        "print(letter_check(\"strawberry\", \"a\"))\n",
        "print(letter_check(\"strawberry\", \"o\"))"
      ],
      "metadata": {
        "colab": {
          "base_uri": "https://localhost:8080/"
        },
        "id": "BA-URjXG0ArI",
        "outputId": "8ef7e019-6fc7-450d-a47d-dea7682cc5dc"
      },
      "execution_count": 18,
      "outputs": [
        {
          "output_type": "stream",
          "name": "stdout",
          "text": [
            "True\n",
            "False\n"
          ]
        }
      ]
    },
    {
      "cell_type": "code",
      "source": [
        "favorite_fruit = \"blueberry\"\n",
        "counter = 0\n",
        "for character in favorite_fruit:\n",
        "  if character == \"b\":\n",
        "    counter = counter + 1\n",
        "print(counter)\n"
      ],
      "metadata": {
        "colab": {
          "base_uri": "https://localhost:8080/"
        },
        "id": "FkQC_och0L2T",
        "outputId": "50314bd1-9f99-4ab8-ba5f-5b51de8bfd11"
      },
      "execution_count": 19,
      "outputs": [
        {
          "output_type": "stream",
          "name": "stdout",
          "text": [
            "2\n"
          ]
        }
      ]
    },
    {
      "cell_type": "code",
      "source": [
        "def contains(big_string, little_string):\n",
        "  return little_string in big_string\n",
        "\n",
        "\n",
        "print(contains(\"watermelon\", \"melon\"))\n",
        "print(contains(\"watermelon\", \"berry\"))\n",
        "\n",
        "def common_letters(string_one, string_two):\n",
        "  common = []\n",
        "  for string in string_one:\n",
        "    if (string in string_two) and not (string in common) :\n",
        "      common.append(string)\n",
        "  return common\n",
        "\n",
        "\n",
        "print(common_letters(\"banana\", \"cream\"))"
      ],
      "metadata": {
        "colab": {
          "base_uri": "https://localhost:8080/"
        },
        "id": "Oljh5LWS0RYD",
        "outputId": "012c3555-8757-4f9c-ee8f-ed104cd33907"
      },
      "execution_count": 20,
      "outputs": [
        {
          "output_type": "stream",
          "name": "stdout",
          "text": [
            "True\n",
            "False\n",
            "['a']\n"
          ]
        }
      ]
    },
    {
      "cell_type": "markdown",
      "source": [
        "# String Methods\n",
        "There are three string methods that can change the casing of a string. These are .lower(), .upper(), and .title().\n",
        "\n",
        ".lower() returns the string with all lowercase characters.\n",
        "\n",
        ".upper() returns the string with all uppercase characters.\n",
        "\n",
        ".title() returns the string in title case, which means the first letter of each word is capitalized."
      ],
      "metadata": {
        "id": "Gar34zy20wlX"
      }
    },
    {
      "cell_type": "code",
      "source": [
        "poem_title = \"spring storm\"\n",
        "poem_author = \"William Carlos Williams\"\n",
        "\n",
        "poem_title_fixed = poem_title.title()\n",
        "print(poem_title_fixed)\n",
        "\n",
        "poem_author_fixed = poem_author.upper()\n",
        "print(poem_author_fixed)\n",
        "\n",
        "poem_author_fixed = poem_author.lower()\n",
        "print(poem_author_fixed)"
      ],
      "metadata": {
        "colab": {
          "base_uri": "https://localhost:8080/"
        },
        "id": "KRSB_LtO0VB0",
        "outputId": "1e73a1cb-17d2-4ee2-e34f-94df3671d549"
      },
      "execution_count": 23,
      "outputs": [
        {
          "output_type": "stream",
          "name": "stdout",
          "text": [
            "Spring Storm\n",
            "WILLIAM CARLOS WILLIAMS\n",
            "william carlos williams\n"
          ]
        }
      ]
    },
    {
      "cell_type": "markdown",
      "source": [
        "### Splitting strings\n",
        "\n",
        ".split() is performed on a string, takes one argument, and returns a list of substrings found between the given argument (which in the case of .split() is known as the delimiter). The following syntax should be used:\n",
        "\n",
        "string_name.split(delimiter)\n",
        "\n",
        "If you do not provide an argument for .split() it will default to splitting at spaces."
      ],
      "metadata": {
        "id": "DBvulGj51Ep8"
      }
    },
    {
      "cell_type": "code",
      "source": [
        "man_its_a_hot_one = \"Like seven inches from the midday sun\"\n",
        "print(man_its_a_hot_one.split())\n",
        "# => ['Like', 'seven', 'inches', 'from', 'the', 'midday', 'sun']"
      ],
      "metadata": {
        "colab": {
          "base_uri": "https://localhost:8080/"
        },
        "id": "gWu_mXGo05eC",
        "outputId": "1bb92faf-acc8-4802-99ca-5d72d83ead77"
      },
      "execution_count": 24,
      "outputs": [
        {
          "output_type": "stream",
          "name": "stdout",
          "text": [
            "['Like', 'seven', 'inches', 'from', 'the', 'midday', 'sun']\n"
          ]
        }
      ]
    },
    {
      "cell_type": "code",
      "source": [
        "line_one = \"The sky has given over\"\n",
        "\n",
        "line_one_words = line_one.split()\n",
        "print(line_one_words)"
      ],
      "metadata": {
        "colab": {
          "base_uri": "https://localhost:8080/"
        },
        "id": "6XuU1-_X1QQW",
        "outputId": "e2d626a9-c19b-4776-c0ae-986e117d0ff0"
      },
      "execution_count": 25,
      "outputs": [
        {
          "output_type": "stream",
          "name": "stdout",
          "text": [
            "['The', 'sky', 'has', 'given', 'over']\n"
          ]
        }
      ]
    },
    {
      "cell_type": "markdown",
      "source": [
        "If we provide an argument for .split() we can dictate the character we want our string to be split on. This argument should be provided as a string itself.\n",
        "\n"
      ],
      "metadata": {
        "id": "1oDnA0nX1XYH"
      }
    },
    {
      "cell_type": "code",
      "source": [
        "greatest_guitarist = \"santana\"\n",
        "print(greatest_guitarist.split('n'))"
      ],
      "metadata": {
        "colab": {
          "base_uri": "https://localhost:8080/"
        },
        "id": "SKDAkn961S9O",
        "outputId": "64e8ba56-7a7a-473f-beb1-4293695fb0cf"
      },
      "execution_count": 26,
      "outputs": [
        {
          "output_type": "stream",
          "name": "stdout",
          "text": [
            "['sa', 'ta', 'a']\n"
          ]
        }
      ]
    },
    {
      "cell_type": "code",
      "source": [
        "authors = \"Audre Lorde,Gabriela Mistral,Jean Toomer,An Qi,Walt Whitman,Shel Silverstein,Carmen Boullosa,Kamala Suraiyya,Langston Hughes,Adrienne Rich,Nikki Giovanni\"\n",
        "\n",
        "author_names = authors.split(',')\n",
        "print(author_names)\n",
        "\n",
        "print(author_names[0])\n",
        "\n",
        "author_last_names = []\n",
        "for last in author_names:\n",
        "  author_last_names.append(last.split()[-1])\n",
        "print(author_last_names)"
      ],
      "metadata": {
        "colab": {
          "base_uri": "https://localhost:8080/"
        },
        "id": "W1xJIpAG1aVP",
        "outputId": "b0c59f4d-6248-4c77-86e3-754d40d606c0"
      },
      "execution_count": 27,
      "outputs": [
        {
          "output_type": "stream",
          "name": "stdout",
          "text": [
            "['Audre Lorde', 'Gabriela Mistral', 'Jean Toomer', 'An Qi', 'Walt Whitman', 'Shel Silverstein', 'Carmen Boullosa', 'Kamala Suraiyya', 'Langston Hughes', 'Adrienne Rich', 'Nikki Giovanni']\n",
            "Audre Lorde\n",
            "['Lorde', 'Mistral', 'Toomer', 'Qi', 'Whitman', 'Silverstein', 'Boullosa', 'Suraiyya', 'Hughes', 'Rich', 'Giovanni']\n"
          ]
        }
      ]
    },
    {
      "cell_type": "markdown",
      "source": [
        "We can also split strings using escape sequences. Escape sequences are used to indicate that we want to split by something in a string that is not necessarily a character. The two escape sequences we will cover here are\n",
        "\n",
        "\\n Newline\n",
        "\n",
        "\\t Horizontal Tab\n",
        "\n",
        "Newline or \\n will allow us to split a multi-line string by line breaks and \\t will allow us to split a string by tabs. \\t is particularly useful when dealing with certain datasets because it is not uncommon for data points to be separated by tabs."
      ],
      "metadata": {
        "id": "TgI5CGP21qYk"
      }
    },
    {
      "cell_type": "code",
      "source": [
        "smooth_chorus = \\\n",
        "\"\"\"And if you said, \"This life ain't good enough.\"\n",
        "I would give my world to lift you up\n",
        "I could change my life to better suit your mood\n",
        "Because you're so smooth\"\"\"\n",
        "\n",
        "chorus_lines = smooth_chorus.split('\\n')\n",
        "\n",
        "print(chorus_lines)"
      ],
      "metadata": {
        "colab": {
          "base_uri": "https://localhost:8080/"
        },
        "id": "VoxRriJN1fcc",
        "outputId": "d152815a-9bc8-4b46-a6e8-b667987e177c"
      },
      "execution_count": 28,
      "outputs": [
        {
          "output_type": "stream",
          "name": "stdout",
          "text": [
            "['And if you said, \"This life ain\\'t good enough.\"', 'I would give my world to lift you up', 'I could change my life to better suit your mood', \"Because you're so smooth\"]\n"
          ]
        }
      ]
    },
    {
      "cell_type": "code",
      "source": [
        "spring_storm_text = \\\n",
        "\"\"\"The sky has given over\n",
        "its bitterness.\n",
        "Out of the dark change\n",
        "all day long\n",
        "rain falls and falls\n",
        "as if it would never end.\n",
        "Still the snow keeps\n",
        "its hold on the ground.\n",
        "But water, water\n",
        "from a thousand runnels!\n",
        "It collects swiftly,\n",
        "dappled with black\n",
        "cuts a way for itself\n",
        "through green ice in the gutters.\n",
        "Drop after drop it falls\n",
        "from the withered grass-stems\n",
        "of the overhanging embankment.\"\"\"\n",
        "\n",
        "spring_storm_lines = spring_storm_text.split('\\n')\n",
        "print(spring_storm_lines)"
      ],
      "metadata": {
        "colab": {
          "base_uri": "https://localhost:8080/"
        },
        "id": "2YseP6zA2S7n",
        "outputId": "6344ea9d-468b-4f73-e3e9-1eb3a6bb4f15"
      },
      "execution_count": 29,
      "outputs": [
        {
          "output_type": "stream",
          "name": "stdout",
          "text": [
            "['The sky has given over ', 'its bitterness. ', 'Out of the dark change ', 'all day long ', 'rain falls and falls ', 'as if it would never end. ', 'Still the snow keeps ', 'its hold on the ground. ', 'But water, water ', 'from a thousand runnels! ', 'It collects swiftly, ', 'dappled with black ', 'cuts a way for itself ', 'through green ice in the gutters. ', 'Drop after drop it falls ', 'from the withered grass-stems ', 'of the overhanging embankment.']\n"
          ]
        }
      ]
    },
    {
      "cell_type": "markdown",
      "source": [
        "### Joining strings\n",
        "Now that you’ve learned to break strings apart using .split(), let’s learn to put them back together using .join(). .join() is essentially the opposite of .split(), it joins a list of strings together with a given delimiter."
      ],
      "metadata": {
        "id": "AQ-aomtd2qx0"
      }
    },
    {
      "cell_type": "code",
      "source": [
        "my_munequita = ['My', 'Spanish', 'Harlem', 'Mona', 'Lisa']\n",
        "print(' '.join(my_munequita))"
      ],
      "metadata": {
        "colab": {
          "base_uri": "https://localhost:8080/"
        },
        "id": "zDIII0IL2Y5i",
        "outputId": "c15ed337-4c77-46f0-d958-acf1b1f56339"
      },
      "execution_count": 30,
      "outputs": [
        {
          "output_type": "stream",
          "name": "stdout",
          "text": [
            "My Spanish Harlem Mona Lisa\n"
          ]
        }
      ]
    },
    {
      "cell_type": "code",
      "source": [
        "reapers_line_one_words = [\"Black\", \"reapers\", \"with\", \"the\", \"sound\", \"of\", \"steel\", \"on\", \"stones\"]\n",
        "\n",
        "reapers_line_one = ' '.join(reapers_line_one_words)\n",
        "print(reapers_line_one)"
      ],
      "metadata": {
        "colab": {
          "base_uri": "https://localhost:8080/"
        },
        "id": "Lx7A-dXn2wht",
        "outputId": "67e59119-bd6b-4a05-b0e4-37de939a0fe5"
      },
      "execution_count": 31,
      "outputs": [
        {
          "output_type": "stream",
          "name": "stdout",
          "text": [
            "Black reapers with the sound of steel on stones\n"
          ]
        }
      ]
    },
    {
      "cell_type": "code",
      "source": [
        "santana_songs = ['Oye Como Va', 'Smooth', 'Black Magic Woman', 'Samba Pa Ti', 'Maria Maria']\n",
        "santana_songs_csv = ','.join(santana_songs)\n",
        "print(santana_songs_csv)\n",
        "\n"
      ],
      "metadata": {
        "colab": {
          "base_uri": "https://localhost:8080/"
        },
        "id": "HQAayy982178",
        "outputId": "fa5a2e5e-c348-4c4b-c52b-2642c49b9983"
      },
      "execution_count": 32,
      "outputs": [
        {
          "output_type": "stream",
          "name": "stdout",
          "text": [
            "Oye Como Va,Smooth,Black Magic Woman,Samba Pa Ti,Maria Maria\n"
          ]
        }
      ]
    },
    {
      "cell_type": "code",
      "source": [
        "smooth_fifth_verse_lines = ['Well I\\'m from the barrio', 'You hear my rhythm on your radio', 'You feel the turning of the world so soft and slow', 'Turning you \\'round and \\'round']\n",
        "\n",
        "smooth_fifth_verse = '\\n'.join(smooth_fifth_verse_lines)\n",
        "\n",
        "print(smooth_fifth_verse)"
      ],
      "metadata": {
        "colab": {
          "base_uri": "https://localhost:8080/"
        },
        "id": "kUXO303L3AW9",
        "outputId": "c572614b-a32e-4bd8-b634-cae52b8c5e7a"
      },
      "execution_count": 33,
      "outputs": [
        {
          "output_type": "stream",
          "name": "stdout",
          "text": [
            "Well I'm from the barrio\n",
            "You hear my rhythm on your radio\n",
            "You feel the turning of the world so soft and slow\n",
            "Turning you 'round and 'round\n"
          ]
        }
      ]
    },
    {
      "cell_type": "code",
      "source": [
        "winter_trees_lines = ['All the complicated details', 'of the attiring and', 'the disattiring are completed!', 'A liquid moon', 'moves gently among', 'the long branches.', 'Thus having prepared their buds', 'against a sure winter', 'the wise trees', 'stand sleeping in the cold.']\n",
        "\n",
        "winter_trees_full = '\\n'.join(winter_trees_lines)\n",
        "print(winter_trees_full)"
      ],
      "metadata": {
        "colab": {
          "base_uri": "https://localhost:8080/"
        },
        "id": "k1pMWCro3Ee5",
        "outputId": "5fc58f23-febc-48eb-e3fa-0dc7c49dbe5d"
      },
      "execution_count": 34,
      "outputs": [
        {
          "output_type": "stream",
          "name": "stdout",
          "text": [
            "All the complicated details\n",
            "of the attiring and\n",
            "the disattiring are completed!\n",
            "A liquid moon\n",
            "moves gently among\n",
            "the long branches.\n",
            "Thus having prepared their buds\n",
            "against a sure winter\n",
            "the wise trees\n",
            "stand sleeping in the cold.\n"
          ]
        }
      ]
    },
    {
      "cell_type": "markdown",
      "source": [
        "### .strip()\n",
        "Python provides a great method for cleaning strings: .strip(). Stripping a string removes all whitespace characters from the beginning and end."
      ],
      "metadata": {
        "id": "IUiDrAUc3NJm"
      }
    },
    {
      "cell_type": "code",
      "source": [
        "featuring = \"           rob thomas                 \"\n",
        "print(featuring.strip())"
      ],
      "metadata": {
        "colab": {
          "base_uri": "https://localhost:8080/"
        },
        "id": "j5XkyIYn3HUq",
        "outputId": "bb2743ff-d277-40b0-c795-f32edddad0c5"
      },
      "execution_count": 35,
      "outputs": [
        {
          "output_type": "stream",
          "name": "stdout",
          "text": [
            "rob thomas\n"
          ]
        }
      ]
    },
    {
      "cell_type": "code",
      "source": [
        "featuring = \"!!!rob thomas       !!!!!\"\n",
        "print(featuring.strip('!'))"
      ],
      "metadata": {
        "colab": {
          "base_uri": "https://localhost:8080/"
        },
        "id": "7wdR8NTc3VD7",
        "outputId": "b467774b-53b8-419b-d238-183f814cee90"
      },
      "execution_count": 36,
      "outputs": [
        {
          "output_type": "stream",
          "name": "stdout",
          "text": [
            "rob thomas       \n"
          ]
        }
      ]
    },
    {
      "cell_type": "code",
      "source": [
        "love_maybe_lines = ['Always    ', '     in the middle of our bloodiest battles  ', 'you lay down your arms', '           like flowering mines    ','\\n' ,'   to conquer me home.    ']\n",
        "\n",
        "love_maybe_lines_stripped = []\n",
        "\n",
        "for strip in love_maybe_lines:\n",
        "  love_maybe_lines_stripped.append(strip.strip())\n",
        "\n",
        "print(love_maybe_lines_stripped)\n",
        "\n",
        "love_maybe_full = '\\n'.join(love_maybe_lines_stripped)\n",
        "print(love_maybe_full)"
      ],
      "metadata": {
        "colab": {
          "base_uri": "https://localhost:8080/"
        },
        "id": "HMVIE2023Yap",
        "outputId": "89c973a8-76c3-44ef-aea7-af3f18bb59cc"
      },
      "execution_count": 37,
      "outputs": [
        {
          "output_type": "stream",
          "name": "stdout",
          "text": [
            "['Always', 'in the middle of our bloodiest battles', 'you lay down your arms', 'like flowering mines', '', 'to conquer me home.']\n",
            "Always\n",
            "in the middle of our bloodiest battles\n",
            "you lay down your arms\n",
            "like flowering mines\n",
            "\n",
            "to conquer me home.\n"
          ]
        }
      ]
    },
    {
      "cell_type": "markdown",
      "source": [
        "### Replace\n",
        "Replace takes two arguments and replaces all instances of the first argument in a string with the second argument"
      ],
      "metadata": {
        "id": "decrWHhl3eb-"
      }
    },
    {
      "cell_type": "code",
      "source": [
        "with_spaces = \"You got the kind of loving that can be so smooth\"\n",
        "with_underscores = with_spaces.replace(' ', '_')\n",
        "print(with_underscores)"
      ],
      "metadata": {
        "colab": {
          "base_uri": "https://localhost:8080/"
        },
        "id": "NNC6R0xj3axh",
        "outputId": "c8ca5435-c52e-441c-f107-d1130d0b483e"
      },
      "execution_count": 38,
      "outputs": [
        {
          "output_type": "stream",
          "name": "stdout",
          "text": [
            "You_got_the_kind_of_loving_that_can_be_so_smooth\n"
          ]
        }
      ]
    },
    {
      "cell_type": "code",
      "source": [
        "toomer_bio = \\\n",
        "\"\"\"\n",
        "Nathan Pinchback Tomer, who adopted the name Jean Tomer early in his literary career, was born in Washington, D.C. in 1894. Jean is the son of Nathan Tomer was a mixed-race freedman, born into slavery in 1839 in Chatham County, North Carolina. Jean Tomer is most well known for his first book Cane, which vividly portrays the life of African-Americans in southern farmlands.\n",
        "\"\"\"\n",
        "\n",
        "toomer_bio_fixed = toomer_bio.replace('Tomer', 'Toomer')\n",
        "print(toomer_bio_fixed)"
      ],
      "metadata": {
        "colab": {
          "base_uri": "https://localhost:8080/"
        },
        "id": "ExNyKZBU3mQT",
        "outputId": "62b63d19-9b4b-4d02-963a-c7d414aa1a47"
      },
      "execution_count": 39,
      "outputs": [
        {
          "output_type": "stream",
          "name": "stdout",
          "text": [
            "\n",
            "Nathan Pinchback Toomer, who adopted the name Jean Toomer early in his literary career, was born in Washington, D.C. in 1894. Jean is the son of Nathan Toomer was a mixed-race freedman, born into slavery in 1839 in Chatham County, North Carolina. Jean Toomer is most well known for his first book Cane, which vividly portrays the life of African-Americans in southern farmlands.\n",
            "\n"
          ]
        }
      ]
    },
    {
      "cell_type": "markdown",
      "source": [
        "### .find()\n",
        ".find() takes a string as an argument and searching the string it was run on for that string. It then returns the first index value where that string is located."
      ],
      "metadata": {
        "id": "tc8D61Xa3sUQ"
      }
    },
    {
      "cell_type": "code",
      "source": [
        "print('smooth'.find('t'))"
      ],
      "metadata": {
        "colab": {
          "base_uri": "https://localhost:8080/"
        },
        "id": "vdEtRxYU3o69",
        "outputId": "a4bc314e-d48a-47e0-ed04-832fd2209431"
      },
      "execution_count": 40,
      "outputs": [
        {
          "output_type": "stream",
          "name": "stdout",
          "text": [
            "4\n"
          ]
        }
      ]
    },
    {
      "cell_type": "code",
      "source": [
        "god_wills_it_line_one = \"The very earth will disown you\"\n",
        "\n",
        "disown_placement = god_wills_it_line_one.find('disown')\n",
        "print(disown_placement)"
      ],
      "metadata": {
        "colab": {
          "base_uri": "https://localhost:8080/"
        },
        "id": "qCVK6CTp3zgt",
        "outputId": "944f759e-43f3-4dcc-e8bc-0a3f114dd5d5"
      },
      "execution_count": 41,
      "outputs": [
        {
          "output_type": "stream",
          "name": "stdout",
          "text": [
            "20\n"
          ]
        }
      ]
    },
    {
      "cell_type": "markdown",
      "source": [
        "### .format\n",
        "Python also provides a handy string method for including variables in strings. This method is .format(). .format() takes variables as an argument and includes them in the string that it is run on. You include {} marks as placeholders for where those variables will be imported."
      ],
      "metadata": {
        "id": "2ZiORz9E367D"
      }
    },
    {
      "cell_type": "code",
      "source": [
        "def poem_title_card(title, poet):\n",
        "  return \"The poem \\\"{}\\\" is written by {}.\".format(title,poet)\n",
        "\n",
        "print(poem_title_card(\"I Hear America Singing\", \"Walt Whitman\"))"
      ],
      "metadata": {
        "colab": {
          "base_uri": "https://localhost:8080/"
        },
        "id": "u7eKTiam33Y-",
        "outputId": "c4d7555f-470a-495d-b562-56a0b7e01a33"
      },
      "execution_count": 42,
      "outputs": [
        {
          "output_type": "stream",
          "name": "stdout",
          "text": [
            "The poem \"I Hear America Singing\" is written by Walt Whitman.\n"
          ]
        }
      ]
    },
    {
      "cell_type": "markdown",
      "source": [
        "By including keywords in the string, and in the arguments, you can remove that ambiguity."
      ],
      "metadata": {
        "id": "UF6opsOM4JsG"
      }
    },
    {
      "cell_type": "code",
      "source": [
        "def favorite_song_statement(song, artist):\n",
        "  return \"My favorite song is {song} by {artist}.\".format(song=song, artist=artist)"
      ],
      "metadata": {
        "id": "cs-A1W_i4EpX"
      },
      "execution_count": 43,
      "outputs": []
    },
    {
      "cell_type": "code",
      "source": [
        "def poem_description(publishing_date, author, title, original_work):\n",
        "  poem_desc = \"The poem {title} by {author} was originally published in {original_work} in {publishing_date}.\".format(publishing_date = publishing_date, author = author, title = title, original_work = original_work)\n",
        "  return poem_desc\n",
        "\n",
        "author = \"Shel Silverstein\"\n",
        "title = \"My Beard\"\n",
        "original_work = \"Where the Sidewalk Ends\"\n",
        "publishing_date = \"1974\"\n",
        "\n",
        "my_beard_description = poem_description(publishing_date, author, title, original_work)\n",
        "print(my_beard_description)"
      ],
      "metadata": {
        "colab": {
          "base_uri": "https://localhost:8080/"
        },
        "id": "ceW9syHj4MN-",
        "outputId": "392178cb-15c9-4c80-ace2-31f0ab7091f6"
      },
      "execution_count": 44,
      "outputs": [
        {
          "output_type": "stream",
          "name": "stdout",
          "text": [
            "The poem My Beard by Shel Silverstein was originally published in Where the Sidewalk Ends in 1974.\n"
          ]
        }
      ]
    },
    {
      "cell_type": "code",
      "source": [],
      "metadata": {
        "id": "QmInagCl4OQs"
      },
      "execution_count": null,
      "outputs": []
    }
  ]
}